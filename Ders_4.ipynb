{
 "cells": [
  {
   "cell_type": "markdown",
   "id": "c1e50530",
   "metadata": {},
   "source": [
    "# DÖNGÜLER"
   ]
  },
  {
   "cell_type": "code",
   "execution_count": 1,
   "id": "1679bc33",
   "metadata": {},
   "outputs": [],
   "source": [
    "benımLıstem=[1,2,3,4,5,6,7,8,9,0]"
   ]
  },
  {
   "cell_type": "code",
   "execution_count": 2,
   "id": "2d1419b1",
   "metadata": {},
   "outputs": [
    {
     "name": "stdout",
     "output_type": "stream",
     "text": [
      "evet listenin içinde var\n"
     ]
    }
   ],
   "source": [
    "if 2 in benımLıstem:\n",
    "    print(\"evet listenin içinde var\")"
   ]
  },
  {
   "cell_type": "code",
   "execution_count": 5,
   "id": "c6c25e2f",
   "metadata": {},
   "outputs": [
    {
     "name": "stdout",
     "output_type": "stream",
     "text": [
      "döngü başladı\n",
      "8\n",
      "11\n",
      "14\n",
      "17\n",
      "20\n",
      "23\n",
      "26\n",
      "29\n",
      "32\n",
      "5\n",
      "döngü bitti\n"
     ]
    }
   ],
   "source": [
    "print(\"döngü başladı\")\n",
    "for numara in benımLıstem:\n",
    "    print(numara *3 +5)\n",
    "print(\"döngü bitti\")"
   ]
  },
  {
   "cell_type": "code",
   "execution_count": 6,
   "id": "77f2f29b",
   "metadata": {},
   "outputs": [],
   "source": [
    "yenıLıste=[1,2,3,4,5,6,7,8,9]"
   ]
  },
  {
   "cell_type": "code",
   "execution_count": 11,
   "id": "6bf373cd",
   "metadata": {},
   "outputs": [
    {
     "name": "stdout",
     "output_type": "stream",
     "text": [
      "2\n",
      "4\n",
      "6\n",
      "8\n"
     ]
    }
   ],
   "source": [
    "for rakam in yenıLıste:\n",
    "    if rakam %2==0:\n",
    "        print(rakam)"
   ]
  },
  {
   "cell_type": "code",
   "execution_count": 12,
   "id": "3ea5c15c",
   "metadata": {},
   "outputs": [
    {
     "name": "stdout",
     "output_type": "stream",
     "text": [
      "3\n",
      "6\n",
      "9\n",
      "12\n",
      "15\n",
      "18\n",
      "21\n",
      "24\n",
      "27\n"
     ]
    }
   ],
   "source": [
    "for rakam in yenıLıste:\n",
    "    print(rakam*3)"
   ]
  },
  {
   "cell_type": "markdown",
   "id": "55a6f03a",
   "metadata": {},
   "source": [
    "aynı işlemi demetler ,setler listeler içinde yapabilirsin"
   ]
  },
  {
   "cell_type": "markdown",
   "id": "c1102a25",
   "metadata": {},
   "source": [
    "şimdi benzer işlemi tupple ler için yapalım ve sadece 1. indekste olan elemanları getirtmeye çalışalım"
   ]
  },
  {
   "cell_type": "code",
   "execution_count": 13,
   "id": "9d9d893d",
   "metadata": {},
   "outputs": [],
   "source": [
    "koordınatlıstesı=((12.2,23.2),(45.1,46.2),(78.1,98.6))"
   ]
  },
  {
   "cell_type": "code",
   "execution_count": 14,
   "id": "48f5d6cb",
   "metadata": {},
   "outputs": [
    {
     "data": {
      "text/plain": [
       "tuple"
      ]
     },
     "execution_count": 14,
     "metadata": {},
     "output_type": "execute_result"
    }
   ],
   "source": [
    "type(koordınatlıstesı)"
   ]
  },
  {
   "cell_type": "code",
   "execution_count": 15,
   "id": "70822848",
   "metadata": {},
   "outputs": [
    {
     "data": {
      "text/plain": [
       "tuple"
      ]
     },
     "execution_count": 15,
     "metadata": {},
     "output_type": "execute_result"
    }
   ],
   "source": [
    "type(koordınatlıstesı[0])"
   ]
  },
  {
   "cell_type": "code",
   "execution_count": 17,
   "id": "59cb4ac5",
   "metadata": {},
   "outputs": [
    {
     "name": "stdout",
     "output_type": "stream",
     "text": [
      "23.2\n",
      "46.2\n",
      "98.6\n"
     ]
    }
   ],
   "source": [
    "for eleman in koordınatlıstesı:\n",
    "    print(eleman[1])"
   ]
  },
  {
   "cell_type": "code",
   "execution_count": 18,
   "id": "0fe1f738",
   "metadata": {},
   "outputs": [],
   "source": [
    "garıpLıste=((1,2,3),(4,5,6),(7,8,9))"
   ]
  },
  {
   "cell_type": "code",
   "execution_count": 19,
   "id": "fa78ca14",
   "metadata": {},
   "outputs": [
    {
     "name": "stdout",
     "output_type": "stream",
     "text": [
      "3\n",
      "6\n",
      "9\n"
     ]
    }
   ],
   "source": [
    "for (x,y,z) in garıpLıste:\n",
    "    print(z)"
   ]
  },
  {
   "cell_type": "markdown",
   "id": "e54633fc",
   "metadata": {},
   "source": [
    "items verilenlerden her birini ayrı ayrı ayırmaya yarıyor."
   ]
  },
  {
   "cell_type": "code",
   "execution_count": 22,
   "id": "86c14129",
   "metadata": {},
   "outputs": [],
   "source": [
    "sozlukDenemesı={\"muz\": 100, \"elma\": 234, \"karnabahar\":245}"
   ]
  },
  {
   "cell_type": "code",
   "execution_count": 23,
   "id": "ee64b076",
   "metadata": {},
   "outputs": [
    {
     "data": {
      "text/plain": [
       "dict_items([('muz', 100), ('elma', 234), ('karnabahar', 245)])"
      ]
     },
     "execution_count": 23,
     "metadata": {},
     "output_type": "execute_result"
    }
   ],
   "source": [
    "sozlukDenemesı.items()"
   ]
  },
  {
   "cell_type": "markdown",
   "id": "ec641524",
   "metadata": {},
   "source": [
    "şimdide verilen items 'ı for ile yapalım"
   ]
  },
  {
   "cell_type": "code",
   "execution_count": 25,
   "id": "6376b3d5",
   "metadata": {},
   "outputs": [
    {
     "name": "stdout",
     "output_type": "stream",
     "text": [
      "100\n",
      "234\n",
      "245\n"
     ]
    }
   ],
   "source": [
    "for(anahtar,deger) in sozlukDenemesı.items():\n",
    "    print(deger)\n",
    "    "
   ]
  },
  {
   "cell_type": "code",
   "execution_count": 26,
   "id": "563f434a",
   "metadata": {},
   "outputs": [
    {
     "data": {
      "text/plain": [
       "[1, 2, 3, 4, 5, 6, 7, 8, 9, 0]"
      ]
     },
     "execution_count": 26,
     "metadata": {},
     "output_type": "execute_result"
    }
   ],
   "source": [
    "benımLıstem"
   ]
  },
  {
   "cell_type": "code",
   "execution_count": 27,
   "id": "293c6e9d",
   "metadata": {},
   "outputs": [
    {
     "name": "stdout",
     "output_type": "stream",
     "text": [
      "1\n",
      "2\n",
      "3\n",
      "4\n",
      "5\n",
      "6\n",
      "7\n",
      "8\n"
     ]
    }
   ],
   "source": [
    "for numara in benımLıstem:\n",
    "    if numara == 9:\n",
    "        break;\n",
    "    print(numara)"
   ]
  },
  {
   "cell_type": "markdown",
   "id": "8e6f7793",
   "metadata": {},
   "source": [
    "yukarıda verilen ifadeyi continue ile yapalım. continue atla demek istenilen noktayı atlayıp yoluna devam edecektir."
   ]
  },
  {
   "cell_type": "code",
   "execution_count": 28,
   "id": "f9981d19",
   "metadata": {},
   "outputs": [
    {
     "name": "stdout",
     "output_type": "stream",
     "text": [
      "1\n",
      "2\n",
      "3\n",
      "4\n",
      "5\n",
      "6\n",
      "7\n",
      "8\n",
      "0\n"
     ]
    }
   ],
   "source": [
    "for numara in benımLıstem:\n",
    "    if numara==9:\n",
    "        continue;\n",
    "    print(numara)"
   ]
  },
  {
   "cell_type": "code",
   "execution_count": 29,
   "id": "c08b2e25",
   "metadata": {},
   "outputs": [],
   "source": [
    "for numara in benımLıstem:\n",
    "    pass"
   ]
  },
  {
   "cell_type": "code",
   "execution_count": 30,
   "id": "f5397b08",
   "metadata": {},
   "outputs": [
    {
     "name": "stdout",
     "output_type": "stream",
     "text": [
      "3 hala listenin içinde\n",
      "3 hala listenin içinde\n",
      "3 hala listenin içinde\n",
      "3 hala listenin içinde\n",
      "3 hala listenin içinde\n",
      "3 hala listenin içinde\n",
      "3 hala listenin içinde\n",
      "3 hala listenin içinde\n"
     ]
    }
   ],
   "source": [
    "while 3 in benımLıstem:\n",
    "    print(\"3 hala listenin içinde\")\n",
    "    benımLıstem.pop()"
   ]
  },
  {
   "cell_type": "code",
   "execution_count": null,
   "id": "9e29e20f",
   "metadata": {},
   "outputs": [],
   "source": [
    "yenıdegısken=0\n",
    "while yenıdegısken<15:\n",
    "    "
   ]
  }
 ],
 "metadata": {
  "kernelspec": {
   "display_name": "Python 3 (ipykernel)",
   "language": "python",
   "name": "python3"
  },
  "language_info": {
   "codemirror_mode": {
    "name": "ipython",
    "version": 3
   },
   "file_extension": ".py",
   "mimetype": "text/x-python",
   "name": "python",
   "nbconvert_exporter": "python",
   "pygments_lexer": "ipython3",
   "version": "3.9.7"
  }
 },
 "nbformat": 4,
 "nbformat_minor": 5
}
